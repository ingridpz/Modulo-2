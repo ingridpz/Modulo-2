{
 "cells": [
  {
   "cell_type": "code",
   "execution_count": 27,
   "id": "ec21611e-2af4-4c51-b217-306950a19c76",
   "metadata": {},
   "outputs": [],
   "source": [
    "import pandas as pd\n",
    "import numpy as np\n",
    "from sklearn.datasets import load_iris\n",
    "from sklearn.model_selection import train_test_split\n",
    "import matplotlib.pyplot as plt\n",
    "import seaborn as sns"
   ]
  },
  {
   "cell_type": "code",
   "execution_count": 28,
   "id": "19cffb80-1333-4c80-8045-e8d50dbc7b3e",
   "metadata": {},
   "outputs": [
    {
     "name": "stdout",
     "output_type": "stream",
     "text": [
      "['setosa' 'versicolor' 'virginica']\n"
     ]
    },
    {
     "data": {
      "text/html": [
       "<div>\n",
       "<style scoped>\n",
       "    .dataframe tbody tr th:only-of-type {\n",
       "        vertical-align: middle;\n",
       "    }\n",
       "\n",
       "    .dataframe tbody tr th {\n",
       "        vertical-align: top;\n",
       "    }\n",
       "\n",
       "    .dataframe thead th {\n",
       "        text-align: right;\n",
       "    }\n",
       "</style>\n",
       "<table border=\"1\" class=\"dataframe\">\n",
       "  <thead>\n",
       "    <tr style=\"text-align: right;\">\n",
       "      <th></th>\n",
       "      <th>sepal length (cm)</th>\n",
       "      <th>sepal width (cm)</th>\n",
       "      <th>petal length (cm)</th>\n",
       "      <th>petal width (cm)</th>\n",
       "      <th>target</th>\n",
       "    </tr>\n",
       "  </thead>\n",
       "  <tbody>\n",
       "    <tr>\n",
       "      <th>0</th>\n",
       "      <td>5.1</td>\n",
       "      <td>3.5</td>\n",
       "      <td>1.4</td>\n",
       "      <td>0.2</td>\n",
       "      <td>0</td>\n",
       "    </tr>\n",
       "    <tr>\n",
       "      <th>1</th>\n",
       "      <td>4.9</td>\n",
       "      <td>3.0</td>\n",
       "      <td>1.4</td>\n",
       "      <td>0.2</td>\n",
       "      <td>0</td>\n",
       "    </tr>\n",
       "    <tr>\n",
       "      <th>2</th>\n",
       "      <td>4.7</td>\n",
       "      <td>3.2</td>\n",
       "      <td>1.3</td>\n",
       "      <td>0.2</td>\n",
       "      <td>0</td>\n",
       "    </tr>\n",
       "    <tr>\n",
       "      <th>3</th>\n",
       "      <td>4.6</td>\n",
       "      <td>3.1</td>\n",
       "      <td>1.5</td>\n",
       "      <td>0.2</td>\n",
       "      <td>0</td>\n",
       "    </tr>\n",
       "    <tr>\n",
       "      <th>4</th>\n",
       "      <td>5.0</td>\n",
       "      <td>3.6</td>\n",
       "      <td>1.4</td>\n",
       "      <td>0.2</td>\n",
       "      <td>0</td>\n",
       "    </tr>\n",
       "  </tbody>\n",
       "</table>\n",
       "</div>"
      ],
      "text/plain": [
       "   sepal length (cm)  sepal width (cm)  petal length (cm)  petal width (cm)  \\\n",
       "0                5.1               3.5                1.4               0.2   \n",
       "1                4.9               3.0                1.4               0.2   \n",
       "2                4.7               3.2                1.3               0.2   \n",
       "3                4.6               3.1                1.5               0.2   \n",
       "4                5.0               3.6                1.4               0.2   \n",
       "\n",
       "   target  \n",
       "0       0  \n",
       "1       0  \n",
       "2       0  \n",
       "3       0  \n",
       "4       0  "
      ]
     },
     "execution_count": 28,
     "metadata": {},
     "output_type": "execute_result"
    }
   ],
   "source": [
    "#Importar el dataset\n",
    "iris = load_iris()\n",
    "df = pd.DataFrame(iris.data, columns = iris.feature_names)\n",
    "df['target'] = iris.target\n",
    "targets = iris.target_names\n",
    "print(targets)\n",
    "df.head()"
   ]
  },
  {
   "cell_type": "code",
   "execution_count": 29,
   "id": "64890eac-d0e5-4084-9143-47ccf689085b",
   "metadata": {},
   "outputs": [],
   "source": [
    "#Dividir el dataset\n",
    "x = df.drop([\"target\"], axis=1)\n",
    "y = df['target']\n",
    "xtrain, xtest, ytrain, ytest = train_test_split(x,y,test_size=0.2, random_state=42)\n",
    "#Crear conjunto de validación\n",
    "xtest, xval, ytest, yval = train_test_split(xtest, ytest, test_size = 0.2, random_state = 42)"
   ]
  },
  {
   "cell_type": "code",
   "execution_count": 30,
   "id": "54f14994-2f4d-4f14-8754-444fc4d681c3",
   "metadata": {},
   "outputs": [
    {
     "data": {
      "text/plain": [
       "143    2\n",
       "56     1\n",
       "128    2\n",
       "69     1\n",
       "68     1\n",
       "82     1\n",
       "Name: target, dtype: int32"
      ]
     },
     "execution_count": 30,
     "metadata": {},
     "output_type": "execute_result"
    }
   ],
   "source": [
    "yval"
   ]
  },
  {
   "cell_type": "code",
   "execution_count": 31,
   "id": "c5faad36-b816-433c-ba7f-d896b5be81b0",
   "metadata": {},
   "outputs": [
    {
     "data": {
      "text/plain": [
       "45     0\n",
       "131    2\n",
       "36     0\n",
       "73     1\n",
       "76     1\n",
       "104    2\n",
       "31     0\n",
       "9      0\n",
       "12     0\n",
       "26     0\n",
       "18     0\n",
       "118    2\n",
       "145    2\n",
       "78     1\n",
       "127    2\n",
       "108    2\n",
       "55     1\n",
       "30     0\n",
       "29     0\n",
       "141    2\n",
       "110    2\n",
       "19     0\n",
       "132    2\n",
       "64     1\n",
       "Name: target, dtype: int32"
      ]
     },
     "execution_count": 31,
     "metadata": {},
     "output_type": "execute_result"
    }
   ],
   "source": [
    "ytest"
   ]
  },
  {
   "cell_type": "code",
   "execution_count": 32,
   "id": "5f9c1547-d873-4165-98c1-78679ce842a6",
   "metadata": {},
   "outputs": [
    {
     "data": {
      "text/plain": [
       "24"
      ]
     },
     "execution_count": 32,
     "metadata": {},
     "output_type": "execute_result"
    }
   ],
   "source": [
    "len(ytest)"
   ]
  },
  {
   "cell_type": "code",
   "execution_count": 57,
   "id": "28cd3a7a-03e8-4fc7-b938-d591ac9b856e",
   "metadata": {},
   "outputs": [
    {
     "name": "stdout",
     "output_type": "stream",
     "text": [
      "Best: 0.963889 using {'C': 10, 'penalty': 'l2', 'solver': 'lbfgs'}\n",
      "0.958333 (0.051595) with: {'C': 100, 'penalty': 'l2', 'solver': 'newton-cg'}\n",
      "0.955556 (0.055833) with: {'C': 100, 'penalty': 'l2', 'solver': 'lbfgs'}\n",
      "0.961111 (0.046812) with: {'C': 100, 'penalty': 'l2', 'solver': 'liblinear'}\n",
      "0.961111 (0.046812) with: {'C': 10, 'penalty': 'l2', 'solver': 'newton-cg'}\n",
      "0.963889 (0.046564) with: {'C': 10, 'penalty': 'l2', 'solver': 'lbfgs'}\n",
      "0.961111 (0.046812) with: {'C': 10, 'penalty': 'l2', 'solver': 'liblinear'}\n",
      "0.958333 (0.059900) with: {'C': 1.0, 'penalty': 'l2', 'solver': 'newton-cg'}\n",
      "0.958333 (0.059900) with: {'C': 1.0, 'penalty': 'l2', 'solver': 'lbfgs'}\n",
      "0.955556 (0.059835) with: {'C': 1.0, 'penalty': 'l2', 'solver': 'liblinear'}\n",
      "0.944444 (0.065734) with: {'C': 0.1, 'penalty': 'l2', 'solver': 'newton-cg'}\n",
      "0.944444 (0.065734) with: {'C': 0.1, 'penalty': 'l2', 'solver': 'lbfgs'}\n",
      "0.855556 (0.077380) with: {'C': 0.1, 'penalty': 'l2', 'solver': 'liblinear'}\n",
      "0.861111 (0.092128) with: {'C': 0.01, 'penalty': 'l2', 'solver': 'newton-cg'}\n",
      "0.861111 (0.092128) with: {'C': 0.01, 'penalty': 'l2', 'solver': 'lbfgs'}\n",
      "0.658333 (0.025000) with: {'C': 0.01, 'penalty': 'l2', 'solver': 'liblinear'}\n"
     ]
    },
    {
     "name": "stderr",
     "output_type": "stream",
     "text": [
      "C:\\Users\\Antos\\anaconda3\\lib\\site-packages\\sklearn\\linear_model\\_logistic.py:763: ConvergenceWarning: lbfgs failed to converge (status=1):\n",
      "STOP: TOTAL NO. of ITERATIONS REACHED LIMIT.\n",
      "\n",
      "Increase the number of iterations (max_iter) or scale the data as shown in:\n",
      "    https://scikit-learn.org/stable/modules/preprocessing.html\n",
      "Please also refer to the documentation for alternative solver options:\n",
      "    https://scikit-learn.org/stable/modules/linear_model.html#logistic-regression\n",
      "  n_iter_i = _check_optimize_result(\n"
     ]
    }
   ],
   "source": [
    "#Regresión logística\n",
    "from sklearn.linear_model import LinearRegression\n",
    "import sklearn.metrics\n",
    "from sklearn.metrics import accuracy_score\n",
    "from sklearn.metrics import mean_squared_error\n",
    "from sklearn.metrics import r2_score\n",
    "\n",
    "\n",
    "# definir los parametros del modelo\n",
    "from sklearn.model_selection import RepeatedStratifiedKFold\n",
    "from sklearn.model_selection import GridSearchCV\n",
    "from sklearn.linear_model import LogisticRegression\n",
    "model = LogisticRegression()\n",
    "solvers = ['newton-cg', 'lbfgs', 'liblinear']\n",
    "penalty = ['l2']\n",
    "c_values = [100, 10, 1.0, 0.1, 0.01]\n",
    "#grid search\n",
    "grid = dict(solver=solvers,penalty=penalty,C=c_values)\n",
    "cv = RepeatedStratifiedKFold(n_splits=10, n_repeats=3, random_state=1)\n",
    "grid_search = GridSearchCV(estimator=model, param_grid=grid, n_jobs=-1, cv=cv, scoring='accuracy',error_score=0)\n",
    "grid_result = grid_search.fit(xtrain, ytrain)\n",
    "# Mostrar resultados\n",
    "print(\"Best: %f using %s\" % (grid_result.best_score_, grid_result.best_params_))\n",
    "means = grid_result.cv_results_['mean_test_score']\n",
    "stds = grid_result.cv_results_['std_test_score']\n",
    "params = grid_result.cv_results_['params']\n",
    "for mean, stdev, param in zip(means, stds, params):\n",
    "    print(\"%f (%f) with: %r\" % (mean, stdev, param))\n"
   ]
  },
  {
   "cell_type": "code",
   "execution_count": 60,
   "id": "4b5627bc-9ebb-4e73-9b9c-cac7ffb0c37e",
   "metadata": {},
   "outputs": [
    {
     "name": "stdout",
     "output_type": "stream",
     "text": [
      "Accuracy:  1.0\n",
      "R2 score:  1.0\n",
      "Mse:  0.0\n",
      "Rmse:  0.0\n",
      "Coeficients and Interception:  [[-0.37993204  2.06173382 -4.0770181  -1.86887276]\n",
      " [ 0.94560501  0.14854084 -0.4086544  -2.00605747]\n",
      " [-0.56567296 -2.21027466  4.48567251  3.87493022]] [ 13.04360167   2.30270533 -15.34630701]\n"
     ]
    },
    {
     "name": "stderr",
     "output_type": "stream",
     "text": [
      "C:\\Users\\Antos\\anaconda3\\lib\\site-packages\\sklearn\\linear_model\\_logistic.py:763: ConvergenceWarning: lbfgs failed to converge (status=1):\n",
      "STOP: TOTAL NO. of ITERATIONS REACHED LIMIT.\n",
      "\n",
      "Increase the number of iterations (max_iter) or scale the data as shown in:\n",
      "    https://scikit-learn.org/stable/modules/preprocessing.html\n",
      "Please also refer to the documentation for alternative solver options:\n",
      "    https://scikit-learn.org/stable/modules/linear_model.html#logistic-regression\n",
      "  n_iter_i = _check_optimize_result(\n"
     ]
    }
   ],
   "source": [
    "#Métricas\n",
    "model1 = LogisticRegression(C= 10, penalty= \"l2\", solver= 'lbfgs')\n",
    "lrm =model1.fit(xtrain, ytrain)\n",
    "ypred = lrm.predict(xval)\n",
    "accuracy = accuracy_score(yval, ypred.round())\n",
    "r2 = r2_score(yval, ypred)\n",
    "mse = mean_squared_error(yval, ypred)\n",
    "rmse = np.sqrt(mse)\n",
    "print(\"Accuracy: \", accuracy)\n",
    "print(\"R2 score: \", r2)\n",
    "print (\"Mse: \", mse)\n",
    "print(\"Rmse: \", rmse)\n",
    "print(\"Coeficients and Interception: \",lrm.coef_, lrm.intercept_)"
   ]
  },
  {
   "cell_type": "code",
   "execution_count": 34,
   "id": "542c4a69-7d86-4e1e-bfb7-b4a74049c230",
   "metadata": {},
   "outputs": [
    {
     "name": "stdout",
     "output_type": "stream",
     "text": [
      "Scores: [-3.78592899e-02 -2.96282924e-02 -2.97085770e-02 -1.85923721e-02\n",
      " -6.62956897e-02 -1.99904701e-01 -2.76943257e-02 -1.04179804e-04\n",
      " -2.49122083e-02 -4.22976333e-03]\n",
      "Mean: -0.04389293988377066\n",
      "Standard deviation: 0.054805144825630925\n"
     ]
    }
   ],
   "source": [
    "#Validación \n",
    "from sklearn.model_selection import cross_val_score\n",
    "scores = cross_val_score(model, xtest, ytest, scoring=\"neg_mean_squared_error\", cv=10)\n",
    "tree_rmse_scores = np.sqrt(-scores)\n",
    "\n",
    "print(\"Scores:\", scores)\n",
    "print(\"Mean:\", scores.mean())\n",
    "print(\"Standard deviation:\", scores.std())\n"
   ]
  },
  {
   "cell_type": "code",
   "execution_count": 35,
   "id": "5b12ac0b-72eb-4bc3-9561-0538dc05456d",
   "metadata": {},
   "outputs": [
    {
     "name": "stdout",
     "output_type": "stream",
     "text": [
      "Predicciones: \n",
      "Iris-Setosa \n",
      "\n",
      "Iris-Virginica \n",
      "\n",
      "Iris-Setosa \n",
      "\n",
      "Iris-Versicolor \n",
      "\n",
      "Iris-Versicolor \n",
      "\n",
      "Iris-Virginica \n",
      "\n",
      "Iris-Setosa \n",
      "\n",
      "Iris-Setosa \n",
      "\n",
      "Iris-Setosa \n",
      "\n",
      "Iris-Setosa \n",
      "\n",
      "Iris-Setosa \n",
      "\n",
      "Iris-Virginica \n",
      "\n",
      "Iris-Virginica \n",
      "\n",
      "Iris-Versicolor \n",
      "\n",
      "Iris-Virginica \n",
      "\n",
      "Iris-Virginica \n",
      "\n",
      "Iris-Versicolor \n",
      "\n",
      "Iris-Setosa \n",
      "\n",
      "Iris-Setosa \n",
      "\n",
      "Iris-Virginica \n",
      "\n",
      "Iris-Virginica \n",
      "\n",
      "Iris-Setosa \n",
      "\n",
      "Iris-Virginica \n",
      "\n",
      "Iris-Versicolor \n",
      "\n"
     ]
    }
   ],
   "source": [
    "# Predicciones\n",
    "y_pred= lrm.predict(xtest)\n",
    "ypred = np.round(y_pred)\n",
    "\n",
    "print(\"Predicciones: \")\n",
    "\n",
    "for i in range (len(ypred)):\n",
    "    if ypred[i]==1.0:\n",
    "        print(\"Iris-Versicolor \\n\")\n",
    "    elif ypred[i] == 2.0:\n",
    "        print(\"Iris-Virginica \\n\")\n",
    "    else:\n",
    "        print(\"Iris-Setosa \\n\")"
   ]
  },
  {
   "cell_type": "code",
   "execution_count": 36,
   "id": "0fcd4f65-8a50-4dc9-86cb-4f2c9e73060b",
   "metadata": {},
   "outputs": [
    {
     "name": "stdout",
     "output_type": "stream",
     "text": [
      "Valores del set de prueba: \n",
      "Iris-Setosa \n",
      "\n",
      "Iris-Virginica \n",
      "\n",
      "Iris-Setosa \n",
      "\n",
      "Iris-Versicolor \n",
      "\n",
      "Iris-Versicolor \n",
      "\n",
      "Iris-Virginica \n",
      "\n",
      "Iris-Setosa \n",
      "\n",
      "Iris-Setosa \n",
      "\n",
      "Iris-Setosa \n",
      "\n",
      "Iris-Setosa \n",
      "\n",
      "Iris-Setosa \n",
      "\n",
      "Iris-Virginica \n",
      "\n",
      "Iris-Virginica \n",
      "\n",
      "Iris-Versicolor \n",
      "\n",
      "Iris-Virginica \n",
      "\n",
      "Iris-Virginica \n",
      "\n",
      "Iris-Versicolor \n",
      "\n",
      "Iris-Setosa \n",
      "\n",
      "Iris-Setosa \n",
      "\n",
      "Iris-Virginica \n",
      "\n",
      "Iris-Virginica \n",
      "\n",
      "Iris-Setosa \n",
      "\n",
      "Iris-Virginica \n",
      "\n",
      "Iris-Versicolor \n",
      "\n"
     ]
    }
   ],
   "source": [
    "print(\"Valores del set de prueba: \")\n",
    "for i in range (len(ytest)):\n",
    "    if ytest.iloc[i]==1:\n",
    "        print(\"Iris-Versicolor \\n\")\n",
    "    elif ytest.iloc[i] == 2:\n",
    "        print(\"Iris-Virginica \\n\")\n",
    "    else:\n",
    "        print(\"Iris-Setosa \\n\")"
   ]
  },
  {
   "cell_type": "code",
   "execution_count": 85,
   "id": "7b48926a-619c-465d-9d6d-130030799337",
   "metadata": {},
   "outputs": [
    {
     "name": "stdout",
     "output_type": "stream",
     "text": [
      "sesgo:  0.33333333333333326\n"
     ]
    }
   ],
   "source": [
    "#Para encontrar el bias del modelo\n",
    "bias = np.mean(ypred)-np.mean(df[\"target\"])\n",
    "print(\"sesgo: \", bias)"
   ]
  },
  {
   "cell_type": "code",
   "execution_count": 87,
   "id": "76b3c280-b4e4-4044-9dce-5db44fcb08b0",
   "metadata": {},
   "outputs": [
    {
     "data": {
      "text/plain": [
       "array([[<AxesSubplot:title={'center':'target'}>]], dtype=object)"
      ]
     },
     "execution_count": 87,
     "metadata": {},
     "output_type": "execute_result"
    },
    {
     "data": {
      "image/png": "[encoded data removed]",
      "text/plain": [
       "<Figure size 432x288 with 1 Axes>"
      ]
     },
     "metadata": {
      "needs_background": "light"
     },
     "output_type": "display_data"
    }
   ],
   "source": [
    "df.hist(column = \"target\")"
   ]
  },
  {
   "cell_type": "code",
   "execution_count": null,
   "id": "57197bdc-8703-446c-84c1-b2ea126c12cd",
   "metadata": {},
   "outputs": [],
   "source": []
  }
 ],
 "metadata": {
  "kernelspec": {
   "display_name": "Python 3",
   "language": "python",
   "name": "python3"
  },
  "language_info": {
   "codemirror_mode": {
    "name": "ipython",
    "version": 3
   },
   "file_extension": ".py",
   "mimetype": "text/x-python",
   "name": "python",
   "nbconvert_exporter": "python",
   "pygments_lexer": "ipython3",
   "version": "3.8.8"
  }
 },
 "nbformat": 4,
 "nbformat_minor": 5
}
